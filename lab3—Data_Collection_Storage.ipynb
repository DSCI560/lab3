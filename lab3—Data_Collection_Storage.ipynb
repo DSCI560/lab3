{
  "nbformat": 4,
  "nbformat_minor": 0,
  "metadata": {
    "colab": {
      "provenance": []
    },
    "kernelspec": {
      "name": "python3",
      "display_name": "Python 3"
    },
    "language_info": {
      "name": "python"
    }
  },
  "cells": [
    {
      "cell_type": "code",
      "execution_count": 1,
      "metadata": {
        "colab": {
          "base_uri": "https://localhost:8080/"
        },
        "id": "dT3EIacjhfxp",
        "outputId": "6946ee86-ce9f-4b50-b2d2-14631c1063c9"
      },
      "outputs": [
        {
          "output_type": "stream",
          "name": "stdout",
          "text": [
            "Requirement already satisfied: yfinance in /usr/local/lib/python3.10/dist-packages (0.2.36)\n",
            "Requirement already satisfied: pandas>=1.3.0 in /usr/local/lib/python3.10/dist-packages (from yfinance) (1.5.3)\n",
            "Requirement already satisfied: numpy>=1.16.5 in /usr/local/lib/python3.10/dist-packages (from yfinance) (1.23.5)\n",
            "Requirement already satisfied: requests>=2.31 in /usr/local/lib/python3.10/dist-packages (from yfinance) (2.31.0)\n",
            "Requirement already satisfied: multitasking>=0.0.7 in /usr/local/lib/python3.10/dist-packages (from yfinance) (0.0.11)\n",
            "Requirement already satisfied: lxml>=4.9.1 in /usr/local/lib/python3.10/dist-packages (from yfinance) (4.9.4)\n",
            "Requirement already satisfied: appdirs>=1.4.4 in /usr/local/lib/python3.10/dist-packages (from yfinance) (1.4.4)\n",
            "Requirement already satisfied: pytz>=2022.5 in /usr/local/lib/python3.10/dist-packages (from yfinance) (2023.3.post1)\n",
            "Requirement already satisfied: frozendict>=2.3.4 in /usr/local/lib/python3.10/dist-packages (from yfinance) (2.4.0)\n",
            "Requirement already satisfied: peewee>=3.16.2 in /usr/local/lib/python3.10/dist-packages (from yfinance) (3.17.0)\n",
            "Requirement already satisfied: beautifulsoup4>=4.11.1 in /usr/local/lib/python3.10/dist-packages (from yfinance) (4.11.2)\n",
            "Requirement already satisfied: html5lib>=1.1 in /usr/local/lib/python3.10/dist-packages (from yfinance) (1.1)\n",
            "Requirement already satisfied: soupsieve>1.2 in /usr/local/lib/python3.10/dist-packages (from beautifulsoup4>=4.11.1->yfinance) (2.5)\n",
            "Requirement already satisfied: six>=1.9 in /usr/local/lib/python3.10/dist-packages (from html5lib>=1.1->yfinance) (1.16.0)\n",
            "Requirement already satisfied: webencodings in /usr/local/lib/python3.10/dist-packages (from html5lib>=1.1->yfinance) (0.5.1)\n",
            "Requirement already satisfied: python-dateutil>=2.8.1 in /usr/local/lib/python3.10/dist-packages (from pandas>=1.3.0->yfinance) (2.8.2)\n",
            "Requirement already satisfied: charset-normalizer<4,>=2 in /usr/local/lib/python3.10/dist-packages (from requests>=2.31->yfinance) (3.3.2)\n",
            "Requirement already satisfied: idna<4,>=2.5 in /usr/local/lib/python3.10/dist-packages (from requests>=2.31->yfinance) (3.6)\n",
            "Requirement already satisfied: urllib3<3,>=1.21.1 in /usr/local/lib/python3.10/dist-packages (from requests>=2.31->yfinance) (2.0.7)\n",
            "Requirement already satisfied: certifi>=2017.4.17 in /usr/local/lib/python3.10/dist-packages (from requests>=2.31->yfinance) (2023.11.17)\n"
          ]
        }
      ],
      "source": [
        "pip install yfinance"
      ]
    },
    {
      "cell_type": "code",
      "source": [
        "import yfinance as yf\n",
        "\n",
        "def fetch_stock_data(stock_symbol, start_date, end_date):\n",
        "    stock = yf.Ticker(stock_symbol)\n",
        "    data = stock.history(start=start_date, end=end_date)\n",
        "    return data\n",
        "\n",
        "# 示例：获取苹果公司(AAPL)在指定日期范围内的股票数据\n",
        "data = fetch_stock_data('AAPL', '2023-01-01', '2023-01-10')\n",
        "print(data)\n"
      ],
      "metadata": {
        "colab": {
          "base_uri": "https://localhost:8080/"
        },
        "id": "y91GRk8hhlGP",
        "outputId": "96e9e332-39ce-4c35-9f2d-7066d7322022"
      },
      "execution_count": 2,
      "outputs": [
        {
          "output_type": "stream",
          "name": "stderr",
          "text": [
            "/usr/local/lib/python3.10/dist-packages/yfinance/base.py:48: FutureWarning: The default dtype for empty Series will be 'object' instead of 'float64' in a future version. Specify a dtype explicitly to silence this warning.\n",
            "  _empty_series = pd.Series()\n"
          ]
        },
        {
          "output_type": "stream",
          "name": "stdout",
          "text": [
            "                                 Open        High         Low       Close  \\\n",
            "Date                                                                        \n",
            "2023-01-03 00:00:00-05:00  129.555841  130.172390  123.479803  124.374802   \n",
            "2023-01-04 00:00:00-05:00  126.184691  127.944857  124.384755  125.657639   \n",
            "2023-01-05 00:00:00-05:00  126.423345  127.059787  124.066524  124.325073   \n",
            "2023-01-06 00:00:00-05:00  125.309579  129.565780  124.195801  128.899506   \n",
            "2023-01-09 00:00:00-05:00  129.744803  132.668464  129.168025  129.426575   \n",
            "\n",
            "                              Volume  Dividends  Stock Splits  \n",
            "Date                                                           \n",
            "2023-01-03 00:00:00-05:00  112117500        0.0           0.0  \n",
            "2023-01-04 00:00:00-05:00   89113600        0.0           0.0  \n",
            "2023-01-05 00:00:00-05:00   80962700        0.0           0.0  \n",
            "2023-01-06 00:00:00-05:00   87754700        0.0           0.0  \n",
            "2023-01-09 00:00:00-05:00   70790800        0.0           0.0  \n"
          ]
        }
      ]
    },
    {
      "cell_type": "code",
      "source": [
        "import sqlite3\n",
        "import yfinance as yf\n",
        "\n",
        "def check_stock_validity(stock_symbol):\n",
        "    stock = yf.Ticker(stock_symbol)\n",
        "    # 检查股票数据是否存在\n",
        "    return stock.info['regularMarketPrice'] is not None\n",
        "\n",
        "def add_stock_to_portfolio(portfolio_id, stock_symbol):\n",
        "    if check_stock_validity(stock_symbol):\n",
        "        try:\n",
        "            conn = sqlite3.connect('stock_portfolio.db')\n",
        "            cursor = conn.cursor()\n",
        "\n",
        "            # 在这里，我们默认股票名称为股票代码\n",
        "            cursor.execute(\"INSERT INTO stocks (portfolio_id, stock_symbol, stock_name) VALUES (?, ?, ?)\",\n",
        "                           (portfolio_id, stock_symbol, stock_symbol))\n",
        "            conn.commit()\n",
        "            print(\"股票添加成功\")\n",
        "        except sqlite3.Error as e:\n",
        "            print(f\"数据库错误: {e}\")\n",
        "        finally:\n",
        "            conn.close()\n",
        "    else:\n",
        "        print(\"无效的股票代码\")\n"
      ],
      "metadata": {
        "id": "zPX4Y4vNidRs"
      },
      "execution_count": null,
      "outputs": []
    },
    {
      "cell_type": "code",
      "source": [
        "def remove_stock_from_portfolio(portfolio_id, stock_symbol):\n",
        "    try:\n",
        "        conn = sqlite3.connect('stock_portfolio.db')\n",
        "        cursor = conn.cursor()\n",
        "\n",
        "        cursor.execute(\"DELETE FROM stocks WHERE portfolio_id = ? AND stock_symbol = ?\", (portfolio_id, stock_symbol))\n",
        "        conn.commit()\n",
        "\n",
        "        if cursor.rowcount > 0:\n",
        "            print(\"股票移除成功\")\n",
        "        else:\n",
        "            print(\"未找到该股票\")\n",
        "    except sqlite3.Error as e:\n",
        "        print(f\"数据库错误: {e}\")\n",
        "    finally:\n",
        "        conn.close()\n"
      ],
      "metadata": {
        "id": "1xpfGFEyigaG"
      },
      "execution_count": null,
      "outputs": []
    },
    {
      "cell_type": "code",
      "source": [
        "def display_portfolios():\n",
        "    try:\n",
        "        conn = sqlite3.connect('stock_portfolio.db')\n",
        "        cursor = conn.cursor()\n",
        "\n",
        "        cursor.execute(\"SELECT * FROM portfolios\")\n",
        "        portfolios = cursor.fetchall()\n",
        "\n",
        "        for portfolio in portfolios:\n",
        "            print(f\"组合ID: {portfolio[0]}, 创建日期: {portfolio[1]}\")\n",
        "            cursor.execute(\"SELECT stock_symbol FROM stocks WHERE portfolio_id = ?\", (portfolio[0],))\n",
        "            stocks = cursor.fetchall()\n",
        "            print(\"包含股票: \" + \", \".join([stock[0] for stock in stocks]))\n",
        "            print()\n",
        "\n",
        "    except sqlite3.Error as e:\n",
        "        print(f\"数据库错误: {e}\")\n",
        "    finally:\n",
        "        conn.close()\n"
      ],
      "metadata": {
        "id": "nZrfQB5kiiCk"
      },
      "execution_count": null,
      "outputs": []
    },
    {
      "cell_type": "code",
      "source": [
        "import sqlite3\n",
        "import yfinance as yf\n",
        "\n",
        "# 检查股票是否有效\n",
        "def check_stock_validity(stock_symbol):\n",
        "    stock = yf.Ticker(stock_symbol)\n",
        "    try:\n",
        "        # 检查股票数据是否存在\n",
        "        return stock.info['regularMarketPrice'] is not None\n",
        "    except KeyError:\n",
        "        return False\n",
        "\n",
        "# 向组合添加股票\n",
        "def add_stock_to_portfolio(portfolio_id, stock_symbol):\n",
        "    if check_stock_validity(stock_symbol):\n",
        "        try:\n",
        "            conn = sqlite3.connect('stock_portfolio.db')\n",
        "            cursor = conn.cursor()\n",
        "\n",
        "            cursor.execute(\"INSERT INTO stocks (portfolio_id, stock_symbol, stock_name) VALUES (?, ?, ?)\",\n",
        "                           (portfolio_id, stock_symbol, stock_symbol))\n",
        "            conn.commit()\n",
        "            print(f\"股票 {stock_symbol} 添加成功\")\n",
        "        except sqlite3.Error as e:\n",
        "            print(f\"数据库错误: {e}\")\n",
        "        finally:\n",
        "            conn.close()\n",
        "    else:\n",
        "        print(f\"无效的股票代码: {stock_symbol}\")\n",
        "\n",
        "# 从组合中移除股票\n",
        "def remove_stock_from_portfolio(portfolio_id, stock_symbol):\n",
        "    try:\n",
        "        conn = sqlite3.connect('stock_portfolio.db')\n",
        "        cursor = conn.cursor()\n",
        "\n",
        "        cursor.execute(\"DELETE FROM stocks WHERE portfolio_id = ? AND stock_symbol = ?\", (portfolio_id, stock_symbol))\n",
        "        conn.commit()\n",
        "\n",
        "        if cursor.rowcount > 0:\n",
        "            print(f\"股票 {stock_symbol} 移除成功\")\n",
        "        else:\n",
        "            print(f\"股票 {stock_symbol} 未找到\")\n",
        "    except sqlite3.Error as e:\n",
        "        print(f\"数据库错误: {e}\")\n",
        "    finally:\n",
        "        conn.close()\n",
        "\n",
        "# 显示所有股票组合\n",
        "def display_portfolios():\n",
        "    try:\n",
        "        conn = sqlite3.connect('stock_portfolio.db')\n",
        "        cursor = conn.cursor()\n",
        "\n",
        "        cursor.execute(\"SELECT * FROM portfolios\")\n",
        "        portfolios = cursor.fetchall()\n",
        "\n",
        "        for portfolio in portfolios:\n",
        "            print(f\"\\n组合ID: {portfolio[0]}, 创建日期: {portfolio[1]}\")\n",
        "            cursor.execute(\"SELECT stock_symbol FROM stocks WHERE portfolio_id = ?\", (portfolio[0],))\n",
        "            stocks = cursor.fetchall()\n",
        "            print(\"包含股票: \" + \", \".join([stock[0] for stock in stocks]))\n",
        "    except sqlite3.Error as e:\n",
        "        print(f\"数据库错误: {e}\")\n",
        "    finally:\n",
        "        conn.close()\n",
        "\n",
        "# 测试函数\n",
        "def test_portfolio_management():\n",
        "    # 假设你已经有了一个portfolio_id为1的股票组合\n",
        "    portfolio_id = 1\n",
        "\n",
        "    # 要测试的股票代码列表\n",
        "    stock_symbols = [\"AAPL\", \"MSFT\", \"AMZN\", \"GOOGL\", \"TSLA\", \"JPM\", \"JNJ\", \"KO\", \"BA\", \"NVDA\"]\n",
        "\n",
        "    # 添加股票到组合\n",
        "    for symbol in stock_symbols:\n",
        "        add_stock_to_portfolio(portfolio_id, symbol)\n",
        "\n",
        "    # 显示所有组合\n",
        "    display_portfolios()\n",
        "\n",
        "    # 从组合中移除一个股票\n",
        "    remove_stock_from_portfolio(portfolio_id, \"TSLA\")\n",
        "\n",
        "    # 再次显示所有组合，检查'TSLA'是否被移除\n",
        "    display_portfolios()\n",
        "\n",
        "# 调用测试函数\n",
        "test_portfolio_management()\n"
      ],
      "metadata": {
        "colab": {
          "base_uri": "https://localhost:8080/"
        },
        "id": "a6jwtzoujCzB",
        "outputId": "d10d349f-1cf8-4fad-c215-bf232607e1fd"
      },
      "execution_count": 3,
      "outputs": [
        {
          "output_type": "stream",
          "name": "stdout",
          "text": [
            "无效的股票代码: AAPL\n",
            "无效的股票代码: MSFT\n",
            "无效的股票代码: AMZN\n",
            "无效的股票代码: GOOGL\n",
            "无效的股票代码: TSLA\n",
            "无效的股票代码: JPM\n",
            "无效的股票代码: JNJ\n",
            "无效的股票代码: KO\n",
            "无效的股票代码: BA\n",
            "无效的股票代码: NVDA\n",
            "数据库错误: no such table: portfolios\n",
            "数据库错误: no such table: stocks\n",
            "数据库错误: no such table: portfolios\n"
          ]
        }
      ]
    }
  ]
}